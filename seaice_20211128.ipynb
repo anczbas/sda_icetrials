{
 "cells": [
  {
   "cell_type": "code",
   "execution_count": 1,
   "id": "503dd5f2-723d-4113-9e54-766312fe8bb0",
   "metadata": {
    "tags": []
   },
   "outputs": [],
   "source": [
    "# !pip install ipyleaflet"
   ]
  },
  {
   "cell_type": "code",
   "execution_count": 2,
   "id": "7451e9a1-fe90-4f2e-a79d-438bdd42639d",
   "metadata": {
    "tags": []
   },
   "outputs": [],
   "source": [
    "# from sidecar import Sidecar\n",
    "from ipyleaflet import Map, basemaps, basemap_to_tiles, WMSLayer, LayersControl, FullScreenControl, ScaleControl, MeasureControl, SplitMapControl, Marker"
   ]
  },
  {
   "cell_type": "code",
   "execution_count": 3,
   "id": "aa3b4382-b9dc-4ba2-9dec-e633802bc53d",
   "metadata": {
    "jupyter": {
     "source_hidden": true
    },
    "tags": []
   },
   "outputs": [],
   "source": [
    "wmsADD = WMSLayer(\n",
    "    url='https://geos.polarview.aq/geoserver/polarview/wms',\n",
    "    layers='polarview:coastS10',\n",
    "    format='image/png',\n",
    "    transparent=True,\n",
    "    attribution='Antarctic Digital Database',\n",
    "    name='ADD coastline'\n",
    ")"
   ]
  },
  {
   "cell_type": "code",
   "execution_count": 4,
   "id": "869dadef-c8a1-4b96-a1ff-c9911d86f85b",
   "metadata": {
    "jupyter": {
     "source_hidden": true
    },
    "tags": []
   },
   "outputs": [],
   "source": [
    "wmsS1_20181122 = WMSLayer(\n",
    "    url='http://bslmagb.nerc-bas.ac.uk/erdas-iws/ogc/wms/DataPolarview',\n",
    "    layers='111_S1jpeg2000_201811_S1B_IW_GRDH_1SSH_20181122T080357_64FE_S_1.8bit.jp2',\n",
    "    format='image/png',\n",
    "    transparent=True,\n",
    "    attribution='EC Copernicus',\n",
    "    name='S1B_IW_GRDH_1SSH_20181122T080357_64FE_S_1'\n",
    ")"
   ]
  },
  {
   "cell_type": "code",
   "execution_count": 5,
   "id": "b944f79f-ebf5-44e5-a5a3-8ac15c5149d1",
   "metadata": {
    "jupyter": {
     "source_hidden": true
    },
    "tags": []
   },
   "outputs": [],
   "source": [
    "wmsS1_20190103 = WMSLayer(\n",
    "    url='http://bslmagb.nerc-bas.ac.uk/erdas-iws/ogc/wms/DataPolarview',\n",
    "    layers='111_S1jpeg2000_201901_S1A_IW_GRDH_1SSH_20190103T080437_000C_S_1.8bit.jp2',\n",
    "    format='image/png',\n",
    "    transparent=True,\n",
    "    attribution='EC Copernicus',\n",
    "    name='S1A_IW_GRDH_1SSH_20190103T080437_000C_S_1'\n",
    ")"
   ]
  },
  {
   "cell_type": "code",
   "execution_count": 6,
   "id": "df00a93e-1ee1-4b44-8da9-66016aaac21e",
   "metadata": {
    "jupyter": {
     "source_hidden": true
    },
    "tags": []
   },
   "outputs": [],
   "source": [
    "wmsS1_20181228 = WMSLayer(\n",
    "    url='http://bslmagb.nerc-bas.ac.uk/erdas-iws/ogc/wms/DataPolarview',\n",
    "    layers='111_S1jpeg2000_201812_S1B_IW_GRDH_1SSH_20181228T080355_1963_S_1.8bit.jp2',\n",
    "    format='image/png',\n",
    "    transparent=True,\n",
    "    attribution='EC Copernicus',\n",
    "    name='S1B_IW_GRDH_1SSH_20181228T080355_1963_S_1'\n",
    ")"
   ]
  },
  {
   "cell_type": "code",
   "execution_count": 7,
   "id": "b1d4de8f-72e0-4528-a916-ca1f26ff7503",
   "metadata": {
    "jupyter": {
     "source_hidden": true
    },
    "tags": []
   },
   "outputs": [],
   "source": [
    "wmsS1_20190109 = WMSLayer(\n",
    "    url='http://bslmagb.nerc-bas.ac.uk/erdas-iws/ogc/wms/DataPolarview',\n",
    "    layers='111_S1jpeg2000_201901_S1B_IW_GRDH_1SSH_20190109T080355_4D9D_S_1.8bit.jp2',\n",
    "    format='image/png',\n",
    "    transparent=True,\n",
    "    attribution='EC Copernicus',\n",
    "    name='S1B_IW_GRDH_1SSH_20190109T080355_4D9D_S_1'\n",
    ")"
   ]
  },
  {
   "cell_type": "code",
   "execution_count": 8,
   "id": "96e04aa3-8480-43d7-9a7e-01aa05a09e83",
   "metadata": {
    "jupyter": {
     "source_hidden": true
    },
    "tags": []
   },
   "outputs": [],
   "source": [
    "wmsS1_20190121 = WMSLayer(\n",
    "    url='http://bslmagb.nerc-bas.ac.uk/erdas-iws/ogc/wms/DataPolarview',\n",
    "    layers='111_S1jpeg2000_201901_S1B_IW_GRDH_1SSH_20190121T080355_1F17_S_1.8bit.jp2',\n",
    "    format='image/png',\n",
    "    transparent=True,\n",
    "    attribution='EC Copernicus',\n",
    "    name='S1B_IW_GRDH_1SSH_20190121T080355_1F17_S_1'\n",
    ")"
   ]
  },
  {
   "cell_type": "code",
   "execution_count": 9,
   "id": "336ff1c0-fbe6-4d3d-8767-0ae86b75e9ce",
   "metadata": {
    "jupyter": {
     "source_hidden": true
    },
    "tags": []
   },
   "outputs": [],
   "source": [
    "wmsS1_20191129 = WMSLayer(\n",
    "    url='http://bslmagb.nerc-bas.ac.uk/erdas-iws/ogc/wms/DataPolarview',\n",
    "    layers='111_S1jpeg2000_201911_S1B_IW_GRDH_1SSH_20191129T080403_22AD_S_1.8bit.jp2',\n",
    "    format='image/png',\n",
    "    transparent=True,\n",
    "    attribution='EC Copernicus',\n",
    "    name='S1B_IW_GRDH_1SSH_20191129T080403_22AD_S_1'\n",
    ")"
   ]
  },
  {
   "cell_type": "code",
   "execution_count": 10,
   "id": "ac2f95a1-7ef6-4115-8da7-a58f62aeb77f",
   "metadata": {
    "jupyter": {
     "source_hidden": true
    },
    "tags": []
   },
   "outputs": [],
   "source": [
    "wmsS1_20201124 = WMSLayer(\n",
    "    url='http://bslmagb.nerc-bas.ac.uk/erdas-iws/ogc/wms/DataPolarview',\n",
    "    layers='111_S1jpeg2000_202011_S1B_IW_GRDH_1SSH_20201124T021642_D39D_S_1.8bit.jp2',\n",
    "    format='image/png',\n",
    "    transparent=True,\n",
    "    attribution='EC Copernicus',\n",
    "    name='S1B_IW_GRDH_1SSH_20201124T021642_D39D_S_1'\n",
    ")"
   ]
  },
  {
   "cell_type": "code",
   "execution_count": 11,
   "id": "b099c089-19a3-4fb9-b349-0e80d1fa496e",
   "metadata": {
    "jupyter": {
     "source_hidden": true
    },
    "tags": []
   },
   "outputs": [],
   "source": [
    "wmsS1_20211124 = WMSLayer(\n",
    "    url='http://bslmagb.nerc-bas.ac.uk/erdas-iws/ogc/wms/DataPolarview',\n",
    "    layers='111_S1jpeg2000_202111_S1A_IW_GRDH_1SSH_20211124T080457_0E07_S_1.8bit.jp2',\n",
    "    format='image/png',\n",
    "    transparent=True,\n",
    "    attribution='EC Copernicus',\n",
    "    name='S1A_IW_GRDH_1SSH_20211124T080457_0E07_S_1'\n",
    ")"
   ]
  },
  {
   "cell_type": "code",
   "execution_count": 12,
   "id": "914d0d68-e997-47c9-8104-d463634fb996",
   "metadata": {
    "jupyter": {
     "source_hidden": true
    },
    "tags": []
   },
   "outputs": [],
   "source": [
    "wmsS1_20211031 = WMSLayer(\n",
    "    url='http://bslmagb.nerc-bas.ac.uk/erdas-iws/ogc/wms/DataPolarview',\n",
    "    layers='111_S1jpeg2000_202110_S1A_IW_GRDH_1SSH_20211031T080457_FF62_S_1.8bit.jp2',\n",
    "    format='image/png',\n",
    "    transparent=True,\n",
    "    attribution='EC Copernicus',\n",
    "    name='S1A_IW_GRDH_1SSH_20211031T080457_FF62_S_1'\n",
    ")"
   ]
  },
  {
   "cell_type": "code",
   "execution_count": 13,
   "id": "bd0f4f35-33d0-436f-805d-a4dcef38049c",
   "metadata": {},
   "outputs": [],
   "source": [
    "m = Map(center=(-73,-78), zoom=7, basemap=basemaps.CartoDB.DarkMatter)\n",
    "m.layout.height = '600px'\n",
    "\n",
    "m.add_layer(wmsS1_20181122)\n",
    "m.add_layer(wmsS1_20181228)\n",
    "m.add_layer(wmsS1_20190103)\n",
    "m.add_layer(wmsS1_20190109)\n",
    "m.add_layer(wmsS1_20190121)\n",
    "\n",
    "m.add_layer(wmsS1_20191129)\n",
    "m.add_layer(wmsS1_20201124)\n",
    "\n",
    "m.add_layer(wmsS1_20211031)\n",
    "m.add_layer(wmsS1_20211124)\n",
    "\n",
    "m.add_layer(wmsADD)\n",
    "m.add_layer(Marker(location=(-73.0178, -77.3843), draggable=False, opacity=0.5, title=\"Cargo site Jan'19\", name=\"Cargo site Jan'19\"));\n",
    "m.add_layer(Marker(location=(-73.0682, -77.8175), draggable=False, opacity=0.5, title=\"Fast ice edge 2018-12-31\", name=\"Fast ice edge 2018-12-31\"));\n",
    "\n",
    "\n",
    "m.add_control(FullScreenControl())\n",
    "m.add_control(LayersControl(position='topleft'))\n",
    "m.add_control(MeasureControl(position='topright', active_color = 'orange', primary_length_unit = 'kilometers', completed_color = 'red'))\n",
    "m.add_control(ScaleControl(position='bottomleft', max_width=200))\n",
    "# m.add_control(SplitMapControl(left_layer=wmsS1_1, right_layer=wmsS1_2))\n",
    "\n"
   ]
  },
  {
   "cell_type": "code",
   "execution_count": 14,
   "id": "a645f2aa-6363-4245-961a-96df928f2302",
   "metadata": {
    "tags": []
   },
   "outputs": [
    {
     "data": {
      "application/vnd.jupyter.widget-view+json": {
       "model_id": "b912d4e13fb44adcbfa1e0269c7d60f1",
       "version_major": 2,
       "version_minor": 0
      },
      "text/plain": [
       "Map(center=[-73, -78], controls=(ZoomControl(options=['position', 'zoom_in_text', 'zoom_in_title', 'zoom_out_t…"
      ]
     },
     "metadata": {},
     "output_type": "display_data"
    }
   ],
   "source": [
    "display(m)"
   ]
  },
  {
   "cell_type": "code",
   "execution_count": null,
   "id": "8b8f41ce-fcb4-49d7-89cd-a191761d3513",
   "metadata": {
    "tags": []
   },
   "outputs": [],
   "source": []
  }
 ],
 "metadata": {
  "kernelspec": {
   "display_name": "Python 3 (ipykernel)",
   "language": "python",
   "name": "python3"
  },
  "language_info": {
   "codemirror_mode": {
    "name": "ipython",
    "version": 3
   },
   "file_extension": ".py",
   "mimetype": "text/x-python",
   "name": "python",
   "nbconvert_exporter": "python",
   "pygments_lexer": "ipython3",
   "version": "3.9.7"
  }
 },
 "nbformat": 4,
 "nbformat_minor": 5
}
